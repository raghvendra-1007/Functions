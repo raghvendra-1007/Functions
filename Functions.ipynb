{
 "cells": [
  {
   "cell_type": "markdown",
   "id": "1faacda2-20c2-4b14-a405-bfe69a91e7c1",
   "metadata": {},
   "source": [
    "**1. Write a function that takes two numbers as parameters and returns their sum.**"
   ]
  },
  {
   "cell_type": "code",
   "execution_count": 6,
   "id": "8e15f379-6a72-448e-9965-e04f31a0f246",
   "metadata": {},
   "outputs": [
    {
     "data": {
      "text/plain": [
       "12"
      ]
     },
     "execution_count": 6,
     "metadata": {},
     "output_type": "execute_result"
    }
   ],
   "source": [
    "def sum(a,b):\n",
    "    return a+b\n",
    "    \n",
    "sum(5,7)"
   ]
  },
  {
   "cell_type": "markdown",
   "id": "0e673199-9c61-49ca-a158-6c208a93aad0",
   "metadata": {},
   "source": [
    "**2. Create a function that checks if a number is even or odd.**"
   ]
  },
  {
   "cell_type": "code",
   "execution_count": 17,
   "id": "f5be32b5-be43-4aaa-a0b8-2b209225747e",
   "metadata": {},
   "outputs": [
    {
     "name": "stdin",
     "output_type": "stream",
     "text": [
      "enter a number 78\n"
     ]
    },
    {
     "name": "stdout",
     "output_type": "stream",
     "text": [
      "it is even\n"
     ]
    }
   ],
   "source": [
    "def checker(num):\n",
    "    if num%2==0:\n",
    "        print(\"it is even\")\n",
    "    else:\n",
    "        print(\"it is odd\")\n",
    "\n",
    "a=(int(input(\"enter a number\")))\n",
    "checker(a)"
   ]
  },
  {
   "cell_type": "markdown",
   "id": "005ab440-c879-48b2-a2be-20f9f1e75af4",
   "metadata": {},
   "source": [
    "**3. Write a function that calculates the factorial of a given number.**"
   ]
  },
  {
   "cell_type": "code",
   "execution_count": 28,
   "id": "38477e56-7315-46c1-b671-3012b9debfd3",
   "metadata": {},
   "outputs": [
    {
     "data": {
      "text/plain": [
       "120"
      ]
     },
     "execution_count": 28,
     "metadata": {},
     "output_type": "execute_result"
    }
   ],
   "source": [
    "def factorial_checker(num):\n",
    "    fac=1\n",
    "    for i in range(1,num+1):\n",
    "        fac*=i\n",
    "    return fac\n",
    "\n",
    "factorial_checker(5)"
   ]
  },
  {
   "cell_type": "markdown",
   "id": "af95a3fa-c1df-496c-a843-818e7dd4a9de",
   "metadata": {},
   "source": [
    "**4. Define a function that returns the largest number from a given list.**"
   ]
  },
  {
   "cell_type": "code",
   "execution_count": 126,
   "id": "5ea7e164-38d0-4af3-850c-772cfc05a626",
   "metadata": {},
   "outputs": [
    {
     "data": {
      "text/plain": [
       "8"
      ]
     },
     "execution_count": 126,
     "metadata": {},
     "output_type": "execute_result"
    }
   ],
   "source": [
    "def largest(list):\n",
    "    return max(list)\n",
    "\n",
    "largest([4,8,6,7,2])"
   ]
  },
  {
   "cell_type": "markdown",
   "id": "3ec50347-3dfa-4777-bd0f-72f45d472e2a",
   "metadata": {},
   "source": [
    "**5. Create a function that converts temperature from Celsius to Fahrenheit and vice versa.**"
   ]
  },
  {
   "cell_type": "code",
   "execution_count": 113,
   "id": "a684aef7-c3f8-4ea1-8e21-59a2c2262a3a",
   "metadata": {},
   "outputs": [
    {
     "name": "stdout",
     "output_type": "stream",
     "text": [
      "77.0\n"
     ]
    },
    {
     "data": {
      "text/plain": [
       "25.0"
      ]
     },
     "execution_count": 113,
     "metadata": {},
     "output_type": "execute_result"
    }
   ],
   "source": [
    "def converter1(celsius):\n",
    "    far=(celsius*(9/5)+32)\n",
    "    return(far)\n",
    "\n",
    "def converter2(far):\n",
    "    cel=(((far-32)*5)/9)\n",
    "    return(cel)\n",
    "\n",
    "print(converter1(25))\n",
    "converter2(77)"
   ]
  },
  {
   "cell_type": "markdown",
   "id": "2e1afa77-4f9b-4e73-af2a-2e6d972da09f",
   "metadata": {},
   "source": [
    "**6. Write a function that counts the number of vowels in a given string.**"
   ]
  },
  {
   "cell_type": "code",
   "execution_count": 85,
   "id": "36425228-c6fa-4390-82fe-5141e07e92e5",
   "metadata": {},
   "outputs": [
    {
     "name": "stdin",
     "output_type": "stream",
     "text": [
      "enter a string -  raj\n"
     ]
    },
    {
     "name": "stdout",
     "output_type": "stream",
     "text": [
      "the total no. of vowels in string is - 1\n"
     ]
    }
   ],
   "source": [
    "def count_vowels(string):\n",
    "    count=0\n",
    "    list=[\"a\",\"e\",\"i\",\"o\",\"u\"]\n",
    "    for i in string:\n",
    "        if i in list:\n",
    "            count+=1\n",
    "    if count==0: \n",
    "        print(\"no vowel found\")\n",
    "    else:\n",
    "        print(f\"the total no. of vowels in string is - {count}\")\n",
    "\n",
    "a=str(input(\"enter a string - \"))\n",
    "count_vowels(a)      "
   ]
  },
  {
   "cell_type": "markdown",
   "id": "53d558a0-1a5b-4bb7-824e-03775a276f59",
   "metadata": {},
   "source": [
    "**7. Create a function that reverses a string without using built-in functions.**"
   ]
  },
  {
   "cell_type": "code",
   "execution_count": 143,
   "id": "1ab8b9fa-12ea-49cc-8d27-fc46ede9695f",
   "metadata": {},
   "outputs": [
    {
     "data": {
      "text/plain": [
       "'vahgar'"
      ]
     },
     "execution_count": 143,
     "metadata": {},
     "output_type": "execute_result"
    }
   ],
   "source": [
    "def string_reverse(string):\n",
    "    reverse=string[::-1]\n",
    "    return reverse\n",
    "\n",
    "string_reverse(\"raghav\")"
   ]
  },
  {
   "cell_type": "markdown",
   "id": "d1429595-cebe-4c4e-af94-e4ba89c7a001",
   "metadata": {},
   "source": [
    "**8. Define a function that removes duplicates from a list.**"
   ]
  },
  {
   "cell_type": "code",
   "execution_count": 5,
   "id": "924b2835-81f1-48b1-b486-bc7e04f2c02b",
   "metadata": {},
   "outputs": [
    {
     "data": {
      "text/plain": [
       "[4, 8, 9, 1, 6, 2, 7, 5, 25, 3]"
      ]
     },
     "execution_count": 5,
     "metadata": {},
     "output_type": "execute_result"
    }
   ],
   "source": [
    "def remover(a):\n",
    "    cleaned_list=list(dict.fromkeys(a))\n",
    "    return cleaned_list\n",
    "\n",
    "remover([4,8,9,1,4,6,2,1,7,5,25,7,3])"
   ]
  },
  {
   "cell_type": "markdown",
   "id": "fb578800-adc6-4772-b517-6150dbb593a8",
   "metadata": {},
   "source": [
    "**9. Write a function that takes a string as input and returns the count of each character in a dictionary.**"
   ]
  },
  {
   "cell_type": "code",
   "execution_count": 41,
   "id": "0a0852a7-fbeb-4b68-9c2d-9dc575c18918",
   "metadata": {},
   "outputs": [
    {
     "name": "stdin",
     "output_type": "stream",
     "text": [
      "enter a string nilesh\n"
     ]
    },
    {
     "name": "stdout",
     "output_type": "stream",
     "text": [
      "enter the count of each character 6\n"
     ]
    }
   ],
   "source": [
    "def count():\n",
    "    counter=0\n",
    "    a=str(input(\"enter a string\"))\n",
    "    for i in a:\n",
    "        counter+=1\n",
    "    print(f\"enter the count of each character {counter}\")\n",
    "\n",
    "count()"
   ]
  },
  {
   "cell_type": "markdown",
   "id": "9280e045-5592-4fe6-a6c6-8c41873fd2dd",
   "metadata": {},
   "source": [
    "**10. Create a function that finds the longest word in a given sentence.**"
   ]
  },
  {
   "cell_type": "code",
   "execution_count": 57,
   "id": "0db0ef88-488e-4a8c-a762-017afb46b2fd",
   "metadata": {},
   "outputs": [
    {
     "name": "stdin",
     "output_type": "stream",
     "text": [
      "enter a word ramu\n",
      "enter a word raj\n",
      "enter a word raghvendra\n"
     ]
    },
    {
     "name": "stdout",
     "output_type": "stream",
     "text": [
      "c is the longest word\n"
     ]
    }
   ],
   "source": [
    "def longest_word():\n",
    "    a=str(input(\"enter a word\"))\n",
    "    b=str(input(\"enter a word\"))\n",
    "    c=str(input(\"enter a word\"))\n",
    "    a=len(a)\n",
    "    b=len(b)\n",
    "    c=len(c)\n",
    "    if a>b and a>c:\n",
    "        print(\"a is the longest word\")\n",
    "    elif b>a and b>c:\n",
    "        print(\"b is the longest word\")\n",
    "    else:\n",
    "        print(\"c is the longest word\")\n",
    "\n",
    "longest_word()"
   ]
  },
  {
   "cell_type": "markdown",
   "id": "34926396-e0fc-45b9-bcfc-955a79f52ca4",
   "metadata": {},
   "source": [
    "**11. Write a function that finds the sum of all digits in a given number.**"
   ]
  },
  {
   "cell_type": "code",
   "execution_count": 60,
   "id": "fe2bdada-394f-4ddc-ae19-58bbf3f68e8d",
   "metadata": {},
   "outputs": [
    {
     "name": "stdin",
     "output_type": "stream",
     "text": [
      "enter a number 569\n"
     ]
    },
    {
     "ename": "TypeError",
     "evalue": "'int' object is not iterable",
     "output_type": "error",
     "traceback": [
      "\u001b[1;31m---------------------------------------------------------------------------\u001b[0m",
      "\u001b[1;31mTypeError\u001b[0m                                 Traceback (most recent call last)",
      "Cell \u001b[1;32mIn[60], line 8\u001b[0m\n\u001b[0;32m      5\u001b[0m         \u001b[38;5;28msum\u001b[39m\u001b[38;5;241m+\u001b[39m\u001b[38;5;241m=\u001b[39mi\n\u001b[0;32m      6\u001b[0m     \u001b[38;5;28mprint\u001b[39m(\u001b[38;5;124mf\u001b[39m\u001b[38;5;124m\"\u001b[39m\u001b[38;5;124mthe sum of all digits in the given number is - \u001b[39m\u001b[38;5;132;01m{\u001b[39;00m\u001b[38;5;28msum\u001b[39m\u001b[38;5;132;01m}\u001b[39;00m\u001b[38;5;124m\"\u001b[39m)\n\u001b[1;32m----> 8\u001b[0m \u001b[43mcount\u001b[49m\u001b[43m(\u001b[49m\u001b[43m)\u001b[49m\n",
      "Cell \u001b[1;32mIn[60], line 4\u001b[0m, in \u001b[0;36mcount\u001b[1;34m()\u001b[0m\n\u001b[0;32m      2\u001b[0m \u001b[38;5;28msum\u001b[39m\u001b[38;5;241m=\u001b[39m\u001b[38;5;241m0\u001b[39m\n\u001b[0;32m      3\u001b[0m a\u001b[38;5;241m=\u001b[39m\u001b[38;5;28mint\u001b[39m(\u001b[38;5;28minput\u001b[39m(\u001b[38;5;124m\"\u001b[39m\u001b[38;5;124menter a number\u001b[39m\u001b[38;5;124m\"\u001b[39m))\n\u001b[1;32m----> 4\u001b[0m \u001b[43m\u001b[49m\u001b[38;5;28;43;01mfor\u001b[39;49;00m\u001b[43m \u001b[49m\u001b[43mi\u001b[49m\u001b[43m \u001b[49m\u001b[38;5;129;43;01min\u001b[39;49;00m\u001b[43m \u001b[49m\u001b[43ma\u001b[49m\u001b[43m:\u001b[49m\n\u001b[0;32m      5\u001b[0m \u001b[43m    \u001b[49m\u001b[38;5;28;43msum\u001b[39;49m\u001b[38;5;241;43m+\u001b[39;49m\u001b[38;5;241;43m=\u001b[39;49m\u001b[43mi\u001b[49m\n\u001b[0;32m      6\u001b[0m \u001b[38;5;28mprint\u001b[39m(\u001b[38;5;124mf\u001b[39m\u001b[38;5;124m\"\u001b[39m\u001b[38;5;124mthe sum of all digits in the given number is - \u001b[39m\u001b[38;5;132;01m{\u001b[39;00m\u001b[38;5;28msum\u001b[39m\u001b[38;5;132;01m}\u001b[39;00m\u001b[38;5;124m\"\u001b[39m)\n",
      "\u001b[1;31mTypeError\u001b[0m: 'int' object is not iterable"
     ]
    }
   ],
   "source": [
    "def count():\n",
    "    sum=0\n",
    "    a=int(input(\"enter a number\"))\n",
    "    for i in a:\n",
    "        sum+=i\n",
    "    print(f\"the sum of all digits in the given number is - {sum}\")\n",
    "\n",
    "count()"
   ]
  },
  {
   "cell_type": "code",
   "execution_count": null,
   "id": "9145401f-f8fe-4ab3-ac2b-0b53b57d7e3c",
   "metadata": {},
   "outputs": [],
   "source": []
  }
 ],
 "metadata": {
  "kernelspec": {
   "display_name": "Python 3 (ipykernel)",
   "language": "python",
   "name": "python3"
  },
  "language_info": {
   "codemirror_mode": {
    "name": "ipython",
    "version": 3
   },
   "file_extension": ".py",
   "mimetype": "text/x-python",
   "name": "python",
   "nbconvert_exporter": "python",
   "pygments_lexer": "ipython3",
   "version": "3.12.7"
  }
 },
 "nbformat": 4,
 "nbformat_minor": 5
}
